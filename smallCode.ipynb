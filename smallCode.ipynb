{
 "cells": [
  {
   "cell_type": "markdown",
   "metadata": {},
   "source": [
    "# 说明\n",
    "\n",
    "这是在运行代码中一些使用单行运行的代码的合集"
   ]
  },
  {
   "cell_type": "markdown",
   "metadata": {},
   "source": [
    "## 2.1"
   ]
  },
  {
   "cell_type": "code",
   "execution_count": 1,
   "metadata": {},
   "outputs": [
    {
     "name": "stderr",
     "output_type": "stream",
     "text": [
      "Using TensorFlow backend.\n"
     ]
    },
    {
     "name": "stdout",
     "output_type": "stream",
     "text": [
      "Help on module keras.datasets.mnist in keras.datasets:\n",
      "\n",
      "NAME\n",
      "    keras.datasets.mnist - MNIST handwritten digits dataset.\n",
      "\n",
      "FUNCTIONS\n",
      "    load_data(path='mnist.npz')\n",
      "        Loads the MNIST dataset.\n",
      "        \n",
      "        # Arguments\n",
      "            path: path where to cache the dataset locally\n",
      "                (relative to ~/.keras/datasets).\n",
      "        \n",
      "        # Returns\n",
      "            Tuple of Numpy arrays: `(x_train, y_train), (x_test, y_test)`.\n",
      "\n",
      "DATA\n",
      "    absolute_import = _Feature((2, 5, 0, 'alpha', 1), (3, 0, 0, 'alpha', 0...\n",
      "    division = _Feature((2, 2, 0, 'alpha', 2), (3, 0, 0, 'alpha', 0), 8192...\n",
      "    print_function = _Feature((2, 6, 0, 'alpha', 2), (3, 0, 0, 'alpha', 0)...\n",
      "\n",
      "FILE\n",
      "    d:\\anaconda3\\lib\\site-packages\\keras\\datasets\\mnist.py\n",
      "\n",
      "\n",
      "None\n"
     ]
    }
   ],
   "source": [
    "from keras.datasets import mnist\n",
    "print(help(mnist))"
   ]
  },
  {
   "cell_type": "code",
   "execution_count": 3,
   "metadata": {},
   "outputs": [
    {
     "name": "stdout",
     "output_type": "stream",
     "text": [
      "(60000, 28, 28)\n",
      "(60000,)\n",
      "(10000, 28, 28)\n",
      "(10000,)\n"
     ]
    }
   ],
   "source": [
    "(train_images, train_labels), (test_images, test_labels) = mnist.load_data()\n",
    "print(train_images.shape)\n",
    "print(train_labels.shape)\n",
    "print(test_images.shape)\n",
    "print(test_labels.shape)"
   ]
  },
  {
   "cell_type": "code",
   "execution_count": 32,
   "metadata": {},
   "outputs": [
    {
     "data": {
      "image/png": "[encoded data removed]",
      "text/plain": [
       "<Figure size 720x720 with 4 Axes>"
      ]
     },
     "metadata": {
      "needs_background": "light"
     },
     "output_type": "display_data"
    }
   ],
   "source": [
    "import matplotlib.pyplot as plt\n",
    "import numpy as np\n",
    "\n",
    "# 载入数据集，并且输出维度大小\n",
    "(train_images, train_labels), (test_images, test_labels) = mnist.load_data()\n",
    "\n",
    "# 随机提取四副图片\n",
    "index = np.random.randint(0, 60000, 4)\n",
    "\n",
    "# 绘制四副图片\n",
    "plt.figure(figsize=(10, 10))                         # 设置图片画布大小\n",
    "plt.subplots_adjust(wspace = 0.1, hspace = 0.3)      # 设置子图间隔大小\n",
    "for i in range(4):\n",
    "    plt.subplot(2,2,i+1)\n",
    "    title = 'label:'+str(train_labels[index[i]])     # 中间的+号表示字符串拼接，真是神奇啊\n",
    "    plt.title(title, fontsize = 15)                  # 设置图片标题以及字体大小\n",
    "    plt.xticks(fontsize = 15)                        # 设置x刻度大小\n",
    "    plt.yticks(fontsize = 15)                        # 设置y刻度大小\n",
    "    plt.imshow(train_images[index[i],:,:]) \n",
    "plt.show()"
   ]
  },
  {
   "cell_type": "code",
   "execution_count": 45,
   "metadata": {},
   "outputs": [
    {
     "name": "stdout",
     "output_type": "stream",
     "text": [
      "Epoch 1/5\n",
      "60000/60000 [==============================] - 60s 1ms/step - loss: 0.2579 - acc: 0.9258\n",
      "Epoch 2/5\n",
      "60000/60000 [==============================] - 61s 1ms/step - loss: 0.1038 - acc: 0.9693\n",
      "Epoch 3/5\n",
      "60000/60000 [==============================] - 76s 1ms/step - loss: 0.0695 - acc: 0.9783\n",
      "Epoch 4/5\n",
      "60000/60000 [==============================] - 66s 1ms/step - loss: 0.0501 - acc: 0.9855\n",
      "Epoch 5/5\n",
      "60000/60000 [==============================] - 65s 1ms/step - loss: 0.0379 - acc: 0.9887\n",
      "10000/10000 [==============================] - 19s 2ms/step\n",
      "test_acc: 0.9774\n"
     ]
    }
   ],
   "source": [
    "# 2-1-Mnist.py\n",
    "from keras.datasets import mnist       \n",
    "from keras.utils import to_categorical \n",
    "from keras import models\t\t\t  \n",
    "from keras import layers             \n",
    "\n",
    "(train_images, train_labels), (test_images, test_labels) = mnist.load_data()\n",
    "\n",
    "network = models.Sequential()\n",
    "network.add(layers.Dense(512, activation='relu', input_shape=(28 * 28,)))\n",
    "network.add(layers.Dense(10, activation='softmax'))\n",
    "\n",
    "network.compile(optimizer='rmsprop',\n",
    " \t\t\t\tloss='categorical_crossentropy',\n",
    " \t\t\t\tmetrics=['accuracy'])\n",
    "\n",
    "train_images = train_images.reshape((60000, 28 * 28))\n",
    "train_images = train_images.astype('float32') / 255\n",
    "test_images  = test_images.reshape((10000, 28 * 28))\n",
    "test_images  = test_images.astype('float32') / 255\n",
    "\n",
    "train_labels = to_categorical(train_labels)\n",
    "test_labels  = to_categorical(test_labels)\n",
    "\n",
    "network.fit(train_images, train_labels, epochs=5, batch_size=128)\n",
    "\n",
    "test_loss, test_acc = network.evaluate(test_images, test_labels)\n",
    "print('test_acc:', test_acc)"
   ]
  },
  {
   "cell_type": "code",
   "execution_count": 42,
   "metadata": {},
   "outputs": [
    {
     "name": "stdout",
     "output_type": "stream",
     "text": [
      "Help on function to_categorical in module keras.utils.np_utils:\n",
      "\n",
      "to_categorical(y, num_classes=None, dtype='float32')\n",
      "    Converts a class vector (integers) to binary class matrix.\n",
      "    \n",
      "    E.g. for use with categorical_crossentropy.\n",
      "    \n",
      "    # Arguments\n",
      "        y: class vector to be converted into a matrix\n",
      "            (integers from 0 to num_classes).\n",
      "        num_classes: total number of classes.\n",
      "        dtype: The data type expected by the input, as a string\n",
      "            (`float32`, `float64`, `int32`...)\n",
      "    \n",
      "    # Returns\n",
      "        A binary matrix representation of the input. The classes axis\n",
      "        is placed last.\n",
      "\n",
      "None\n"
     ]
    }
   ],
   "source": [
    "print(help(to_categorical))"
   ]
  },
  {
   "cell_type": "code",
   "execution_count": 45,
   "metadata": {},
   "outputs": [
    {
     "data": {
      "text/plain": [
       "array([5, 0, 4, ..., 5, 6, 8], dtype=uint8)"
      ]
     },
     "execution_count": 45,
     "metadata": {},
     "output_type": "execute_result"
    }
   ],
   "source": [
    "train_labels"
   ]
  },
  {
   "cell_type": "code",
   "execution_count": 46,
   "metadata": {},
   "outputs": [
    {
     "data": {
      "text/plain": [
       "array([[0., 0., 0., ..., 0., 0., 0.],\n",
       "       [1., 0., 0., ..., 0., 0., 0.],\n",
       "       [0., 0., 0., ..., 0., 0., 0.],\n",
       "       ...,\n",
       "       [0., 0., 0., ..., 0., 0., 0.],\n",
       "       [0., 0., 0., ..., 0., 0., 0.],\n",
       "       [0., 0., 0., ..., 0., 1., 0.]], dtype=float32)"
      ]
     },
     "execution_count": 46,
     "metadata": {},
     "output_type": "execute_result"
    }
   ],
   "source": [
    "train_labels = to_categorical(train_labels)\n",
    "train_labels"
   ]
  },
  {
   "cell_type": "code",
   "execution_count": 47,
   "metadata": {},
   "outputs": [
    {
     "data": {
      "text/plain": [
       "(60000, 10)"
      ]
     },
     "execution_count": 47,
     "metadata": {},
     "output_type": "execute_result"
    }
   ],
   "source": [
    "train_labels.shape"
   ]
  },
  {
   "cell_type": "code",
   "execution_count": null,
   "metadata": {},
   "outputs": [],
   "source": [
    "# 载入必须的库\n",
    "from keras.datasets import mnist       # 这是数据集\n",
    "from keras.utils import to_categorical # 这是用于分类的工具\n",
    "from keras import models               # 模型\n",
    "from keras import layers               # 层\n",
    "import matplotlib.pyplot as plt        # 绘图工具\n",
    "\n",
    "# 提取原始数据，以下是固定的形式，由mnist数据集决定\n",
    "(train_images, train_labels), (test_images, test_labels) = mnist.load_data()\n",
    "\n",
    "# 数据预处理\n",
    "train_images = train_images.reshape((60000, 28 * 28)) # 改为二维数组\n",
    "train_images = train_images.astype('float32') / 255   # 归一化\n",
    "test_images  = test_images.reshape((10000, 28 * 28))  # 改为二维数组\n",
    "test_images  = test_images.astype('float32') / 255    # 归一化\n",
    "\n",
    "# 将类向量（整数）转换为二进制类矩阵\n",
    "train_labels = to_categorical(train_labels)  # 分类编码\n",
    "test_labels  = to_categorical(test_labels)   # 分类编码\n",
    "\n",
    "# 留出验证集（这里是新增加的内容）\n",
    "x_val \t\t\t= train_images[:10000] # 验证集：前10000个\n",
    "partial_x_train = train_images[10000:] # 训练集：10000至60000个\n",
    "y_val \t\t\t= train_labels[:10000] # 验证集：前10000个\n",
    "partial_y_train = train_labels[10000:] # 训练集：10000至60000个\n",
    "\n",
    "# 建立网络模型\n",
    "network = models.Sequential()  \t\t   # 顺序模型\n",
    "# 第一层：全连接层，512路relu激活函数\n",
    "network.add(layers.Dense(512, activation = 'relu', input_shape = (28 * 28,)))   \n",
    "# 第二层：全连接层，10路softmax激活函数\n",
    "network.add(layers.Dense(10, activation = 'softmax'))\t\t\t\t\t\t\t\n",
    "\n",
    "# 配置训练模型\n",
    "network.compile(optimizer = 'rmsprop',                  # 优化器，rmsprop\n",
    " \t\t\t\tloss      = 'categorical_crossentropy', # 代价函数, 交叉熵\n",
    " \t\t\t\tmetrics   =['accuracy'])                # 评估指标，精度\n",
    "\n",
    "# 进行网络训练\n",
    "history = network.fit(partial_x_train, partial_y_train, epochs=5, batch_size=128, \t\t\t\t\t\t  validation_data=(x_val, y_val))   # 5轮次，每一批128个\n",
    "\n",
    "# 查看测试集结果\n",
    "test_loss, test_acc = network.evaluate(test_images, test_labels)\n",
    "print('test_acc:', test_acc)\n",
    "\n",
    "# 作图\n",
    "history_dict    = history.history\n",
    "loss_values     = history_dict['loss']\n",
    "val_loss_values = history_dict['val_loss \n",
    "epochs = range(1, len(loss_values) + 1) # 初始化迭代轮次向量\n",
    "plt.figure(1)\n",
    "plt.plot(epochs, loss_values, 'bo', label='Training loss') \n",
    "plt.plot(epochs, val_loss_values, 'b', label='Validation loss') \n",
    "plt.title('Training and validation loss')\n",
    "plt.xlabel('Epochs')\n",
    "plt.ylabel('Loss')\n",
    "plt.legend()\n",
    "plt.show()\n",
    "\n",
    "acc = history_dict['acc'] \n",
    "val_acc = history_dict['val_acc']\n",
    "plt.figure(2)\n",
    "plt.plot(epochs, acc, 'bo', label='Training acc')\n",
    "plt.plot(epochs, val_acc, 'b', label='Validation acc')\n",
    "plt.title('Training and validation accuracy')\n",
    "plt.xlabel('Epochs')\n",
    "plt.ylabel('Accuracy')\n",
    "plt.legend()\n",
    "plt.show()"
   ]
  },
  {
   "cell_type": "code",
   "execution_count": 55,
   "metadata": {},
   "outputs": [
    {
     "data": {
      "text/plain": [
       "20"
      ]
     },
     "execution_count": 55,
     "metadata": {},
     "output_type": "execute_result"
    }
   ],
   "source": [
    "import numpy as np\n",
    "np.array([1, 2, 3]).dot(np.array([2, 3, 4]))"
   ]
  },
  {
   "cell_type": "code",
   "execution_count": 56,
   "metadata": {},
   "outputs": [
    {
     "data": {
      "text/plain": [
       "784"
      ]
     },
     "execution_count": 56,
     "metadata": {},
     "output_type": "execute_result"
    }
   ],
   "source": [
    "28*28"
   ]
  },
  {
   "cell_type": "code",
   "execution_count": 57,
   "metadata": {},
   "outputs": [
    {
     "name": "stdout",
     "output_type": "stream",
     "text": [
      "sdafdsafd\n"
     ]
    }
   ],
   "source": [
    "print('sdaf'+'dsafd')"
   ]
  },
  {
   "cell_type": "code",
   "execution_count": 61,
   "metadata": {},
   "outputs": [
    {
     "name": "stdout",
     "output_type": "stream",
     "text": [
      "asdfasdf\n"
     ]
    }
   ],
   "source": [
    "print(''.join(['asdf', 'asdf']))"
   ]
  },
  {
   "cell_type": "code",
   "execution_count": 67,
   "metadata": {},
   "outputs": [
    {
     "name": "stdout",
     "output_type": "stream",
     "text": [
      "Help on module keras.datasets.imdb in keras.datasets:\n",
      "\n",
      "NAME\n",
      "    keras.datasets.imdb - IMDB sentiment classification dataset.\n",
      "\n",
      "FUNCTIONS\n",
      "    get_word_index(path='imdb_word_index.json')\n",
      "        Retrieves the dictionary mapping words to word indices.\n",
      "        \n",
      "        # Arguments\n",
      "            path: where to cache the data (relative to `~/.keras/dataset`).\n",
      "        \n",
      "        # Returns\n",
      "            The word index dictionary.\n",
      "    \n",
      "    load_data(path='imdb.npz', num_words=None, skip_top=0, maxlen=None, seed=113, start_char=1, oov_char=2, index_from=3, **kwargs)\n",
      "        Loads the IMDB dataset.\n",
      "        \n",
      "        # Arguments\n",
      "            path: where to cache the data (relative to `~/.keras/dataset`).\n",
      "            num_words: max number of words to include. Words are ranked\n",
      "                by how often they occur (in the training set) and only\n",
      "                the most frequent words are kept\n",
      "            skip_top: skip the top N most frequently occurring words\n",
      "                (which may not be informative).\n",
      "            maxlen: sequences longer than this will be filtered out.\n",
      "            seed: random seed for sample shuffling.\n",
      "            start_char: The start of a sequence will be marked with this character.\n",
      "                Set to 1 because 0 is usually the padding character.\n",
      "            oov_char: words that were cut out because of the `num_words`\n",
      "                or `skip_top` limit will be replaced with this character.\n",
      "            index_from: index actual words with this index and higher.\n",
      "        \n",
      "        # Returns\n",
      "            Tuple of Numpy arrays: `(x_train, y_train), (x_test, y_test)`.\n",
      "        \n",
      "        # Raises\n",
      "            ValueError: in case `maxlen` is so low\n",
      "                that no input sequence could be kept.\n",
      "        \n",
      "        Note that the 'out of vocabulary' character is only used for\n",
      "        words that were present in the training set but are not included\n",
      "        because they're not making the `num_words` cut here.\n",
      "        Words that were not seen in the training set but are in the test set\n",
      "        have simply been skipped.\n",
      "\n",
      "DATA\n",
      "    absolute_import = _Feature((2, 5, 0, 'alpha', 1), (3, 0, 0, 'alpha', 0...\n",
      "    division = _Feature((2, 2, 0, 'alpha', 2), (3, 0, 0, 'alpha', 0), 8192...\n",
      "    print_function = _Feature((2, 6, 0, 'alpha', 2), (3, 0, 0, 'alpha', 0)...\n",
      "\n",
      "FILE\n",
      "    d:\\anaconda3\\lib\\site-packages\\keras\\datasets\\imdb.py\n",
      "\n",
      "\n",
      "None\n"
     ]
    }
   ],
   "source": [
    "from keras.datasets import imdb\n",
    "print(help(imdb))"
   ]
  },
  {
   "cell_type": "code",
   "execution_count": 68,
   "metadata": {},
   "outputs": [
    {
     "name": "stdout",
     "output_type": "stream",
     "text": [
      "Downloading data from https://s3.amazonaws.com/text-datasets/imdb.npz\n",
      "17465344/17464789 [==============================] - 99s 6us/step\n",
      "(25000,)\n",
      "(25000,)\n"
     ]
    }
   ],
   "source": [
    "(train_data, train_labels), (test_data, test_labels) = imdb.load_data(num_words = 10000)\n",
    "print(train_data.shape)\n",
    "print(train_labels.shape)"
   ]
  },
  {
   "cell_type": "code",
   "execution_count": 77,
   "metadata": {},
   "outputs": [
    {
     "name": "stdout",
     "output_type": "stream",
     "text": [
      "[1, 14, 22, 16, 43, 530, 973, 1622, 1385, 65, 458, 4468, 66, 3941, 4, 173, 36, 256, 5, 25, 100, 43, 838, 112, 50, 670, 2, 9, 35, 480, 284, 5, 150, 4, 172, 112, 167, 2, 336, 385, 39, 4, 172, 4536, 1111, 17, 546, 38, 13, 447, 4, 192, 50, 16, 6, 147, 2025, 19, 14, 22, 4, 1920, 4613, 469, 4, 22, 71, 87, 12, 16, 43, 530, 38, 76, 15, 13, 1247, 4, 22, 17, 515, 17, 12, 16, 626, 18, 2, 5, 62, 386, 12, 8, 316, 8, 106, 5, 4, 2223, 5244, 16, 480, 66, 3785, 33, 4, 130, 12, 16, 38, 619, 5, 25, 124, 51, 36, 135, 48, 25, 1415, 33, 6, 22, 12, 215, 28, 77, 52, 5, 14, 407, 16, 82, 2, 8, 4, 107, 117, 5952, 15, 256, 4, 2, 7, 3766, 5, 723, 36, 71, 43, 530, 476, 26, 400, 317, 46, 7, 4, 2, 1029, 13, 104, 88, 4, 381, 15, 297, 98, 32, 2071, 56, 26, 141, 6, 194, 7486, 18, 4, 226, 22, 21, 134, 476, 26, 480, 5, 144, 30, 5535, 18, 51, 36, 28, 224, 92, 25, 104, 4, 226, 65, 16, 38, 1334, 88, 12, 16, 283, 5, 16, 4472, 113, 103, 32, 15, 16, 5345, 19, 178, 32]\n",
      "1\n"
     ]
    }
   ],
   "source": [
    "print(train_data[0])\n",
    "print(train_labels[0])"
   ]
  },
  {
   "cell_type": "code",
   "execution_count": 78,
   "metadata": {},
   "outputs": [
    {
     "data": {
      "text/plain": [
       "9999"
      ]
     },
     "execution_count": 78,
     "metadata": {},
     "output_type": "execute_result"
    }
   ],
   "source": [
    "max([max(i) for i in train_data ])"
   ]
  },
  {
   "cell_type": "code",
   "execution_count": 93,
   "metadata": {},
   "outputs": [
    {
     "name": "stdout",
     "output_type": "stream",
     "text": [
      "? this film was just brilliant casting location scenery story direction everyone's really suited the part they played and you could just imagine being there robert ? is an amazing actor and now the same being director ? father came from the same scottish island as myself so i loved the fact there was a real connection with this film the witty remarks throughout the film were great it was just brilliant so much that i bought the film as soon as it was released for ? and would recommend it to everyone to watch and the fly fishing was amazing really cried at the end it was so sad and you know what they say if you cry at a film it must have been good and this definitely was also ? to the two little boy's that played the ? of norman and paul they were just brilliant children are often left out of the ? list i think because the stars that play them all grown up are such a big profile for the whole film but these children are amazing and should be praised for what they have done don't you think the whole story was so lovely because it was true and was someone's life after all that was shared with us all\n"
     ]
    }
   ],
   "source": [
    "# 下载单词字典对应的数据集（这是一个字典）\n",
    "word_index = imdb.get_word_index().\n",
    "# 将原始字典的key和value进行颠倒，即将索引值映射为单词\n",
    "reverse_word_index = dict([(value, key) for (key, value) in word_index.items()])\n",
    "# 对训练集中的第一条评论，按照索引将其转换为单词，并且使用空格来拼接起来，注意后移了3位\n",
    "# 注意事实上，i并不会从1开始索引，因为i是实际化中频率出现的单词索引，索引不可能小于3\n",
    "decode_review = ' '.join([reverse_word_index.get(i -3, '?') for i in train_data[0]])\n",
    "print(decode_review)"
   ]
  },
  {
   "cell_type": "code",
   "execution_count": 105,
   "metadata": {},
   "outputs": [
    {
     "name": "stdout",
     "output_type": "stream",
     "text": [
      "88584\n",
      "88584\n",
      "the\n"
     ]
    }
   ],
   "source": [
    "print(len(word_index))\n",
    "print(len(reverse_word_index))\n",
    "print(reverse_word_index.get(1))"
   ]
  },
  {
   "cell_type": "code",
   "execution_count": 106,
   "metadata": {},
   "outputs": [
    {
     "data": {
      "text/plain": [
       "array([list([1, 14, 22, 16, 43, 530, 973, 1622, 1385, 65, 458, 4468, 66, 3941, 4, 173, 36, 256, 5, 25, 100, 43, 838, 112, 50, 670, 2, 9, 35, 480, 284, 5, 150, 4, 172, 112, 167, 2, 336, 385, 39, 4, 172, 4536, 1111, 17, 546, 38, 13, 447, 4, 192, 50, 16, 6, 147, 2025, 19, 14, 22, 4, 1920, 4613, 469, 4, 22, 71, 87, 12, 16, 43, 530, 38, 76, 15, 13, 1247, 4, 22, 17, 515, 17, 12, 16, 626, 18, 2, 5, 62, 386, 12, 8, 316, 8, 106, 5, 4, 2223, 5244, 16, 480, 66, 3785, 33, 4, 130, 12, 16, 38, 619, 5, 25, 124, 51, 36, 135, 48, 25, 1415, 33, 6, 22, 12, 215, 28, 77, 52, 5, 14, 407, 16, 82, 2, 8, 4, 107, 117, 5952, 15, 256, 4, 2, 7, 3766, 5, 723, 36, 71, 43, 530, 476, 26, 400, 317, 46, 7, 4, 2, 1029, 13, 104, 88, 4, 381, 15, 297, 98, 32, 2071, 56, 26, 141, 6, 194, 7486, 18, 4, 226, 22, 21, 134, 476, 26, 480, 5, 144, 30, 5535, 18, 51, 36, 28, 224, 92, 25, 104, 4, 226, 65, 16, 38, 1334, 88, 12, 16, 283, 5, 16, 4472, 113, 103, 32, 15, 16, 5345, 19, 178, 32]),\n",
       "       list([1, 194, 1153, 194, 8255, 78, 228, 5, 6, 1463, 4369, 5012, 134, 26, 4, 715, 8, 118, 1634, 14, 394, 20, 13, 119, 954, 189, 102, 5, 207, 110, 3103, 21, 14, 69, 188, 8, 30, 23, 7, 4, 249, 126, 93, 4, 114, 9, 2300, 1523, 5, 647, 4, 116, 9, 35, 8163, 4, 229, 9, 340, 1322, 4, 118, 9, 4, 130, 4901, 19, 4, 1002, 5, 89, 29, 952, 46, 37, 4, 455, 9, 45, 43, 38, 1543, 1905, 398, 4, 1649, 26, 6853, 5, 163, 11, 3215, 2, 4, 1153, 9, 194, 775, 7, 8255, 2, 349, 2637, 148, 605, 2, 8003, 15, 123, 125, 68, 2, 6853, 15, 349, 165, 4362, 98, 5, 4, 228, 9, 43, 2, 1157, 15, 299, 120, 5, 120, 174, 11, 220, 175, 136, 50, 9, 4373, 228, 8255, 5, 2, 656, 245, 2350, 5, 4, 9837, 131, 152, 491, 18, 2, 32, 7464, 1212, 14, 9, 6, 371, 78, 22, 625, 64, 1382, 9, 8, 168, 145, 23, 4, 1690, 15, 16, 4, 1355, 5, 28, 6, 52, 154, 462, 33, 89, 78, 285, 16, 145, 95]),\n",
       "       list([1, 14, 47, 8, 30, 31, 7, 4, 249, 108, 7, 4, 5974, 54, 61, 369, 13, 71, 149, 14, 22, 112, 4, 2401, 311, 12, 16, 3711, 33, 75, 43, 1829, 296, 4, 86, 320, 35, 534, 19, 263, 4821, 1301, 4, 1873, 33, 89, 78, 12, 66, 16, 4, 360, 7, 4, 58, 316, 334, 11, 4, 1716, 43, 645, 662, 8, 257, 85, 1200, 42, 1228, 2578, 83, 68, 3912, 15, 36, 165, 1539, 278, 36, 69, 2, 780, 8, 106, 14, 6905, 1338, 18, 6, 22, 12, 215, 28, 610, 40, 6, 87, 326, 23, 2300, 21, 23, 22, 12, 272, 40, 57, 31, 11, 4, 22, 47, 6, 2307, 51, 9, 170, 23, 595, 116, 595, 1352, 13, 191, 79, 638, 89, 2, 14, 9, 8, 106, 607, 624, 35, 534, 6, 227, 7, 129, 113])],\n",
       "      dtype=object)"
      ]
     },
     "execution_count": 106,
     "metadata": {},
     "output_type": "execute_result"
    }
   ],
   "source": [
    "train_data[0:3]"
   ]
  },
  {
   "cell_type": "code",
   "execution_count": 126,
   "metadata": {},
   "outputs": [
    {
     "name": "stdout",
     "output_type": "stream",
     "text": [
      "[1, 14, 22, 16, 43, 530, 973, 1622, 1385, 65, 458, 4468, 66, 3941, 4, 173, 36, 256, 5, 25, 100, 43, 838, 112, 50, 670, 2, 9, 35, 480, 284, 5, 150, 4, 172, 112, 167, 2, 336, 385, 39, 4, 172, 4536, 1111, 17, 546, 38, 13, 447, 4, 192, 50, 16, 6, 147, 2025, 19, 14, 22, 4, 1920, 4613, 469, 4, 22, 71, 87, 12, 16, 43, 530, 38, 76, 15, 13, 1247, 4, 22, 17, 515, 17, 12, 16, 626, 18, 2, 5, 62, 386, 12, 8, 316, 8, 106, 5, 4, 2223, 5244, 16, 480, 66, 3785, 33, 4, 130, 12, 16, 38, 619, 5, 25, 124, 51, 36, 135, 48, 25, 1415, 33, 6, 22, 12, 215, 28, 77, 52, 5, 14, 407, 16, 82, 2, 8, 4, 107, 117, 5952, 15, 256, 4, 2, 7, 3766, 5, 723, 36, 71, 43, 530, 476, 26, 400, 317, 46, 7, 4, 2, 1029, 13, 104, 88, 4, 381, 15, 297, 98, 32, 2071, 56, 26, 141, 6, 194, 7486, 18, 4, 226, 22, 21, 134, 476, 26, 480, 5, 144, 30, 5535, 18, 51, 36, 28, 224, 92, 25, 104, 4, 226, 65, 16, 38, 1334, 88, 12, 16, 283, 5, 16, 4472, 113, 103, 32, 15, 16, 5345, 19, 178, 32]\n",
      "[0. 1. 1. ... 0. 0. 0.]\n",
      "[[0. 0. 0. 0. 0. 0. 0. 0. 0. 0.]]\n",
      "[[0. 1. 1. 0. 0. 0. 1. 0. 1. 0.]]\n"
     ]
    }
   ],
   "source": [
    "import numpy as np\n",
    "\n",
    "def vectorize_sequences(sequences, dimension = 10000):\n",
    "    results = np.zeros((len(sequences), dimension))\n",
    "    for i, sequence in enumerate(sequences):\n",
    "        results[i, sequence] = 1.\n",
    "        return results\n",
    "\n",
    "    \n",
    "x_train = vectorize_sequences(train_data)\n",
    "x_test  = vectorize_sequences(test_data)\n",
    "\n",
    "print(train_data[0])\n",
    "print(x_train[0])\n",
    "\n",
    "# 标签数据向量化\n",
    "x_train = np.asarray(train_labels).astype('float32')\n",
    "y_test  = np.asarray(test_labels).astype('float32')\n",
    "\n",
    "a = np.zeros((1, 10))\n",
    "print(a)\n",
    "a[0, [1,2,6,2,8,1]] = 1.\n",
    "print(a)"
   ]
  },
  {
   "cell_type": "code",
   "execution_count": 153,
   "metadata": {},
   "outputs": [
    {
     "name": "stdout",
     "output_type": "stream",
     "text": [
      "Train on 15000 samples, validate on 10000 samples\n",
      "Epoch 1/20\n",
      "15000/15000 [==============================] - 8s 530us/step - loss: 0.5072 - acc: 0.7837 - val_loss: 0.3789 - val_acc: 0.8694\n",
      "Epoch 2/20\n",
      "15000/15000 [==============================] - 6s 414us/step - loss: 0.2999 - acc: 0.9050 - val_loss: 0.3001 - val_acc: 0.8899\n",
      "Epoch 3/20\n",
      "15000/15000 [==============================] - 7s 467us/step - loss: 0.2177 - acc: 0.9282 - val_loss: 0.3085 - val_acc: 0.8718\n",
      "Epoch 4/20\n",
      "15000/15000 [==============================] - 7s 471us/step - loss: 0.1749 - acc: 0.9440 - val_loss: 0.2840 - val_acc: 0.8842\n",
      "Epoch 5/20\n",
      "15000/15000 [==============================] - 7s 435us/step - loss: 0.1425 - acc: 0.9543 - val_loss: 0.2852 - val_acc: 0.8865\n",
      "Epoch 6/20\n",
      "15000/15000 [==============================] - 7s 443us/step - loss: 0.1151 - acc: 0.9651 - val_loss: 0.3145 - val_acc: 0.8773\n",
      "Epoch 7/20\n",
      "15000/15000 [==============================] - 6s 428us/step - loss: 0.0980 - acc: 0.9709 - val_loss: 0.3129 - val_acc: 0.8844\n",
      "Epoch 8/20\n",
      "15000/15000 [==============================] - 7s 499us/step - loss: 0.0809 - acc: 0.9765 - val_loss: 0.3861 - val_acc: 0.8654\n",
      "Epoch 9/20\n",
      "15000/15000 [==============================] - 7s 487us/step - loss: 0.0662 - acc: 0.9819 - val_loss: 0.3631 - val_acc: 0.8781\n",
      "Epoch 10/20\n",
      "15000/15000 [==============================] - 7s 453us/step - loss: 0.0561 - acc: 0.9852 - val_loss: 0.3842 - val_acc: 0.8792\n",
      "Epoch 11/20\n",
      "15000/15000 [==============================] - 7s 446us/step - loss: 0.0449 - acc: 0.9890 - val_loss: 0.4157 - val_acc: 0.8770\n",
      "Epoch 12/20\n",
      "15000/15000 [==============================] - 7s 451us/step - loss: 0.0387 - acc: 0.9913 - val_loss: 0.4504 - val_acc: 0.8696\n",
      "Epoch 13/20\n",
      "15000/15000 [==============================] - 7s 458us/step - loss: 0.0301 - acc: 0.9931 - val_loss: 0.4701 - val_acc: 0.8734\n",
      "Epoch 14/20\n",
      "15000/15000 [==============================] - 7s 466us/step - loss: 0.0249 - acc: 0.9947 - val_loss: 0.5032 - val_acc: 0.8723\n",
      "Epoch 15/20\n",
      "15000/15000 [==============================] - 7s 449us/step - loss: 0.0178 - acc: 0.9980 - val_loss: 0.5417 - val_acc: 0.8688\n",
      "Epoch 16/20\n",
      "15000/15000 [==============================] - 7s 481us/step - loss: 0.0168 - acc: 0.9968 - val_loss: 0.5741 - val_acc: 0.8704\n",
      "Epoch 17/20\n",
      "15000/15000 [==============================] - 7s 491us/step - loss: 0.0094 - acc: 0.9994 - val_loss: 0.6262 - val_acc: 0.8636\n",
      "Epoch 18/20\n",
      "15000/15000 [==============================] - 7s 486us/step - loss: 0.0109 - acc: 0.9979 - val_loss: 0.6412 - val_acc: 0.8665\n",
      "Epoch 19/20\n",
      "15000/15000 [==============================] - 7s 447us/step - loss: 0.0072 - acc: 0.9994 - val_loss: 0.6791 - val_acc: 0.8650\n",
      "Epoch 20/20\n",
      "15000/15000 [==============================] - 7s 472us/step - loss: 0.0088 - acc: 0.9982 - val_loss: 0.7019 - val_acc: 0.8636\n"
     ]
    },
    {
     "data": {
      "image/png": "[encoded data removed]",
      "text/plain": [
       "<Figure size 720x720 with 2 Axes>"
      ]
     },
     "metadata": {
      "needs_background": "light"
     },
     "output_type": "display_data"
    }
   ],
   "source": [
    "# 3.3\n",
    "from keras.datasets import imdb\n",
    "from keras import models\n",
    "from keras import layers\n",
    "import numpy as np\n",
    "import matplotlib.pyplot as plt\n",
    "\n",
    "\n",
    "def vectorize_sequences(sequences, dimension = 10000):\n",
    "    results = np.zeros((len(sequences), dimension))\n",
    "    for i, sequence in enumerate(sequences):\n",
    "        results[i, sequence] = 1.\n",
    "    return results # 这个地方，刚才缩进不正确，导致结果差的太大了\n",
    "\n",
    "    \n",
    "(train_data, train_labels), (test_data, test_labels) = imdb.load_data(num_words = 10000)\n",
    "x_train = vectorize_sequences(train_data)\n",
    "x_test  = vectorize_sequences(test_data)\n",
    "y_train = np.asarray(train_labels).astype('float32')\n",
    "y_test  = np.asarray(test_labels).astype('float32')\n",
    "\n",
    "x_val           = x_train[:10000]\n",
    "partial_x_train = x_train[10000:]\n",
    "y_val           = y_train[:10000]\n",
    "partial_y_train = y_train[10000:]\n",
    "\n",
    "model = models.Sequential()\n",
    "model.add(layers.Dense(16, activation = 'relu', input_shape = (10000,)))\n",
    "model.add(layers.Dense(16, activation = 'relu'))\n",
    "model.add(layers.Dense(1 , activation = 'sigmoid'))\n",
    "\n",
    "model.compile(optimizer = 'rmsprop',\n",
    "              loss      = 'binary_crossentropy',\n",
    "              metrics   = ['acc'])\n",
    "\n",
    "history = model.fit(partial_x_train,\n",
    "                    partial_y_train,\n",
    "                    epochs = 20,\n",
    "                    batch_size = 512,\n",
    "                    validation_data = (x_val, y_val))\n",
    "\n",
    "# 结果绘图\n",
    "history_dict    = history.history\n",
    "loss_values     = history_dict['loss']\n",
    "val_loss_values = history_dict['val_loss']\n",
    "acc             = history_dict['acc']\n",
    "val_acc         = history_dict['val_acc']\n",
    "\n",
    "epochs = range(1, len(loss_values) + 1)\n",
    "\n",
    "plt.figure(figsize=(10, 10))                         # 设置图片画布大小\n",
    "plt.subplots_adjust(wspace = 0.1, hspace = 0.3)      # 设置子图间隔大小\n",
    "plt.subplot(2, 1, 1)\n",
    "plt.plot(epochs, loss_values, 'bo', label = 'Training loss')\n",
    "plt.plot(epochs, val_loss_values, 'b', label = 'Validation loss')\n",
    "plt.title('Training and validation loss', fontsize = 14)\n",
    "plt.xlabel('Epochs', fontsize = 14)\n",
    "plt.ylabel('Loss', fontsize = 14)\n",
    "plt.xticks(fontsize = 14)                        # 设置x刻度大小\n",
    "plt.yticks(fontsize = 14)                        # 设置y刻度大小\n",
    "plt.legend(fontsize = 14)\n",
    "\n",
    "plt.subplot(2, 1, 2)\n",
    "plt.plot(epochs, acc, 'bo', label='Training acc')\n",
    "plt.plot(epochs, val_acc, 'b', label='Validation acc')\n",
    "plt.title('Training and validation accuracy', fontsize = 14)\n",
    "plt.xlabel('Epochs', fontsize = 14)\n",
    "plt.ylabel('Accuracy', fontsize = 14)\n",
    "plt.xticks(fontsize = 14)                        # 设置x刻度大小\n",
    "plt.yticks(fontsize = 14)                        # 设置y刻度大小\n",
    "plt.legend(fontsize = 14)\n",
    "\n",
    "plt.show()"
   ]
  },
  {
   "cell_type": "code",
   "execution_count": 156,
   "metadata": {},
   "outputs": [
    {
     "name": "stdout",
     "output_type": "stream",
     "text": [
      "Epoch 1/4\n",
      "25000/25000 [==============================] - 9s 371us/step - loss: 0.4460 - acc: 0.8243\n",
      "Epoch 2/4\n",
      "25000/25000 [==============================] - 9s 357us/step - loss: 0.2555 - acc: 0.9103\n",
      "Epoch 3/4\n",
      "25000/25000 [==============================] - 8s 338us/step - loss: 0.1968 - acc: 0.9299\n",
      "Epoch 4/4\n",
      "25000/25000 [==============================] - 9s 372us/step - loss: 0.1644 - acc: 0.9423\n",
      "25000/25000 [==============================] - 21s 856us/step\n"
     ]
    }
   ],
   "source": [
    "# 只训练4代，以防止过拟合\n",
    "model2 = models.Sequential()\n",
    "model2.add(layers.Dense(16, activation = 'relu', input_shape = (10000,)))\n",
    "model2.add(layers.Dense(16, activation = 'relu'))\n",
    "model2.add(layers.Dense(1 , activation = 'sigmoid'))\n",
    "\n",
    "model2.compile(optimizer = 'rmsprop',\n",
    "               loss      = 'binary_crossentropy',\n",
    "               metrics   = ['accuracy'])\n",
    "\n",
    "model2.fit(x_train, y_train, epochs = 4, batch_size = 512)\n",
    "\n",
    "results = model2.evaluate(x_test, y_test)\n",
    "print(results)"
   ]
  },
  {
   "cell_type": "markdown",
   "metadata": {},
   "source": [
    "### 以下内容是3.5"
   ]
  },
  {
   "cell_type": "code",
   "execution_count": 2,
   "metadata": {},
   "outputs": [
    {
     "name": "stdout",
     "output_type": "stream",
     "text": [
      "A local file was found, but it seems to be incomplete or outdated because the auto file hash does not match the original value of 87aedbeb0cb229e378797a632c1997b6 so we will re-download the data.\n",
      "Downloading data from https://s3.amazonaws.com/text-datasets/reuters.npz\n",
      "2113536/2110848 [==============================] - 119s 56us/step\n"
     ]
    }
   ],
   "source": [
    "from keras.datasets import reuters\n",
    "(train_data, train_labels), (test_data, test_labels) = reuters.load_data(num_words = 10000)"
   ]
  },
  {
   "cell_type": "code",
   "execution_count": 4,
   "metadata": {},
   "outputs": [
    {
     "name": "stdout",
     "output_type": "stream",
     "text": [
      "(8982,)\n",
      "(2246,)\n",
      "[1, 2, 2, 8, 43, 10, 447, 5, 25, 207, 270, 5, 3095, 111, 16, 369, 186, 90, 67, 7, 89, 5, 19, 102, 6, 19, 124, 15, 90, 67, 84, 22, 482, 26, 7, 48, 4, 49, 8, 864, 39, 209, 154, 6, 151, 6, 83, 11, 15, 22, 155, 11, 15, 7, 48, 9, 4579, 1005, 504, 6, 258, 6, 272, 11, 15, 22, 134, 44, 11, 15, 16, 8, 197, 1245, 90, 67, 52, 29, 209, 30, 32, 132, 6, 109, 15, 17, 12]\n"
     ]
    }
   ],
   "source": [
    "print(train_data.shape)\n",
    "print(test_data.shape)\n",
    "print(train_data[0])"
   ]
  },
  {
   "cell_type": "code",
   "execution_count": 8,
   "metadata": {},
   "outputs": [
    {
     "name": "stdout",
     "output_type": "stream",
     "text": [
      "? ? ? said as a result of its december acquisition of space co it expects earnings per share in 1987 of 1 15 to 1 30 dlrs per share up from 70 cts in 1986 the company said pretax net should rise to nine to 10 mln dlrs from six mln dlrs in 1986 and rental operation revenues to 19 to 22 mln dlrs from 12 5 mln dlrs it said cash flow per share this year should be 2 50 to three dlrs reuter 3\n",
      "3\n"
     ]
    }
   ],
   "source": [
    "# 解码为单词\n",
    "word_index = reuters.get_word_index()\n",
    "reverse_word_index = dict([(value, key) for (key, value) in word_index.items()])\n",
    "decoded_newswire = ' '.join([reverse_word_index.get(i - 3,'?') for i in train_data[0]])\n",
    "print(decoded_newswire)\n",
    "print(train_labels[0])"
   ]
  },
  {
   "cell_type": "code",
   "execution_count": 22,
   "metadata": {},
   "outputs": [
    {
     "name": "stdout",
     "output_type": "stream",
     "text": [
      "Train on 7982 samples, validate on 1000 samples\n",
      "Epoch 1/20\n",
      "7982/7982 [==============================] - 4s 503us/step - loss: 2.5310 - acc: 0.4956 - val_loss: 1.7238 - val_acc: 0.6110\n",
      "Epoch 2/20\n",
      "7982/7982 [==============================] - 3s 392us/step - loss: 1.4492 - acc: 0.6869 - val_loss: 1.3485 - val_acc: 0.7070\n",
      "Epoch 3/20\n",
      "7982/7982 [==============================] - 4s 452us/step - loss: 1.0994 - acc: 0.7640 - val_loss: 1.1731 - val_acc: 0.7410\n",
      "Epoch 4/20\n",
      "7982/7982 [==============================] - 3s 431us/step - loss: 0.8728 - acc: 0.8146 - val_loss: 1.0813 - val_acc: 0.7590\n",
      "Epoch 5/20\n",
      "7982/7982 [==============================] - 3s 436us/step - loss: 0.7060 - acc: 0.8473 - val_loss: 0.9863 - val_acc: 0.7780\n",
      "Epoch 6/20\n",
      "7982/7982 [==============================] - 3s 397us/step - loss: 0.5696 - acc: 0.8792 - val_loss: 0.9423 - val_acc: 0.8030\n",
      "Epoch 7/20\n",
      "7982/7982 [==============================] - 3s 424us/step - loss: 0.4625 - acc: 0.9032 - val_loss: 0.9117 - val_acc: 0.7980\n",
      "Epoch 8/20\n",
      "7982/7982 [==============================] - 3s 431us/step - loss: 0.3733 - acc: 0.9218 - val_loss: 0.9367 - val_acc: 0.7890\n",
      "Epoch 9/20\n",
      "7982/7982 [==============================] - 4s 459us/step - loss: 0.3061 - acc: 0.9307 - val_loss: 0.8920 - val_acc: 0.8060\n",
      "Epoch 10/20\n",
      "7982/7982 [==============================] - 3s 405us/step - loss: 0.2554 - acc: 0.9411 - val_loss: 0.9082 - val_acc: 0.8130\n",
      "Epoch 11/20\n",
      "7982/7982 [==============================] - 3s 434us/step - loss: 0.2200 - acc: 0.9475 - val_loss: 0.9209 - val_acc: 0.8090\n",
      "Epoch 12/20\n",
      "7982/7982 [==============================] - 4s 451us/step - loss: 0.1885 - acc: 0.9505 - val_loss: 0.9061 - val_acc: 0.8130\n",
      "Epoch 13/20\n",
      "7982/7982 [==============================] - 3s 434us/step - loss: 0.1711 - acc: 0.9524 - val_loss: 0.9373 - val_acc: 0.8090\n",
      "Epoch 14/20\n",
      "7982/7982 [==============================] - 4s 527us/step - loss: 0.1538 - acc: 0.9551 - val_loss: 0.9678 - val_acc: 0.8060\n",
      "Epoch 15/20\n",
      "7982/7982 [==============================] - 4s 464us/step - loss: 0.1397 - acc: 0.9558 - val_loss: 0.9703 - val_acc: 0.8130\n",
      "Epoch 16/20\n",
      "7982/7982 [==============================] - 4s 466us/step - loss: 0.1316 - acc: 0.9558 - val_loss: 1.0317 - val_acc: 0.8040\n",
      "Epoch 17/20\n",
      "7982/7982 [==============================] - 3s 404us/step - loss: 0.1223 - acc: 0.9575 - val_loss: 1.0354 - val_acc: 0.7940\n",
      "Epoch 18/20\n",
      "7982/7982 [==============================] - 4s 527us/step - loss: 0.1201 - acc: 0.9578 - val_loss: 1.0487 - val_acc: 0.8050\n",
      "Epoch 19/20\n",
      "7982/7982 [==============================] - 3s 402us/step - loss: 0.1141 - acc: 0.9590 - val_loss: 1.1010 - val_acc: 0.7970\n",
      "Epoch 20/20\n",
      "7982/7982 [==============================] - 3s 426us/step - loss: 0.1114 - acc: 0.9599 - val_loss: 1.0747 - val_acc: 0.8020\n"
     ]
    },
    {
     "data": {
      "image/png": "[encoded data removed]",
      "text/plain": [
       "<Figure size 720x720 with 2 Axes>"
      ]
     },
     "metadata": {
      "needs_background": "light"
     },
     "output_type": "display_data"
    }
   ],
   "source": [
    "# 3.5 以下是完整代码\n",
    "from keras.datasets import reuters\n",
    "from keras import models\n",
    "from keras import layers\n",
    "import matplotlib.pyplot as plt\n",
    "import numpy as np\n",
    "\n",
    "\n",
    "def vectorize_sequences(sequences, dimension = 10000):\n",
    "    results = np.zeros((len(sequences), dimension))\n",
    "    for i, sequence in enumerate(sequences):\n",
    "        results[i, sequence] = 1.\n",
    "    return results\n",
    "\n",
    "\n",
    "def to_one_hot(labels, dimension = 46):\n",
    "    results = np.zeros((len(labels), dimension))\n",
    "    for i, label in enumerate(labels):\n",
    "        results[i, label] = 1.\n",
    "    return results\n",
    "\n",
    "\n",
    "# 提取数据\n",
    "(train_data, train_labels), (test_data, test_labels) = reuters.load_data(num_words = 10000)\n",
    "\n",
    "# 数据向量化\n",
    "x_train = vectorize_sequences(train_data)\n",
    "x_test  = vectorize_sequences(test_data)\n",
    "\n",
    "# 标签向量化\n",
    "one_hot_train_labels = to_one_hot(train_labels)\n",
    "one_hot_test_labels  = to_one_hot(test_labels)\n",
    "\n",
    "# 留出验证集\n",
    "x_val         = x_train[:1000]\n",
    "partial_x_val = x_train[1000:]\n",
    "y_val         = one_hot_train_labels[:1000]\n",
    "partial_y_val = one_hot_train_labels[1000:]\n",
    "\n",
    "# 构建模型\n",
    "model = models.Sequential()\n",
    "model.add(layers.Dense(64, activation = 'relu', input_shape = (10000,)))\n",
    "model.add(layers.Dense(64, activation = 'relu'))\n",
    "model.add(layers.Dense(46, activation = 'softmax'))\n",
    "\n",
    "# 编译模型\n",
    "model.compile(optimizer = 'rmsprop',\n",
    "              loss      = 'categorical_crossentropy',\n",
    "              metrics   = ['accuracy'])\n",
    "\n",
    "# 训练模型\n",
    "history = model.fit(partial_x_val,\n",
    "                    partial_y_val,\n",
    "                    epochs = 20,\n",
    "                    batch_size = 512,\n",
    "                    validation_data = (x_val, y_val))\n",
    "\n",
    "\n",
    "# 绘图\n",
    "loss     = history.history['loss']\n",
    "val_loss = history.history['val_loss']\n",
    "acc      = history.history['acc']\n",
    "val_acc  = history.history['val_acc']\n",
    "epochs = range(1, len(loss) + 1)\n",
    "\n",
    "plt.figure(figsize = (10, 10))\n",
    "plt.subplots_adjust(wspace = 0.1, hspace = 0.3)\n",
    "plt.subplot(2, 1, 1)\n",
    "plt.plot(epochs, loss, 'bo', label = 'Training loss')\n",
    "plt.plot(epochs, val_loss, 'b', label = 'Validation loss')\n",
    "plt.title('Training and validation loss', fontsize = 14)\n",
    "plt.xlabel('Epochs', fontsize = 14)\n",
    "plt.ylabel('Loss', fontsize = 14)\n",
    "plt.xticks(fontsize = 14)                        # 设置x刻度大小\n",
    "plt.yticks(fontsize = 14)                        # 设置y刻度大小\n",
    "plt.legend(fontsize = 14)\n",
    "\n",
    "plt.subplot(2, 1, 2)\n",
    "plt.plot(epochs, acc, 'bo', label='Training acc')\n",
    "plt.plot(epochs, val_acc, 'b', label='Validation acc')\n",
    "plt.title('Training and validation accuracy', fontsize = 14)\n",
    "plt.xlabel('Epochs', fontsize = 14)\n",
    "plt.ylabel('Accuracy', fontsize = 14)\n",
    "plt.xticks(fontsize = 14)                        # 设置x刻度大小\n",
    "plt.yticks(fontsize = 14)                        # 设置y刻度大小\n",
    "plt.legend(fontsize = 14)\n",
    "\n",
    "plt.show()"
   ]
  },
  {
   "cell_type": "markdown",
   "metadata": {},
   "source": [
    "### 以下是3.6"
   ]
  },
  {
   "cell_type": "code",
   "execution_count": 25,
   "metadata": {},
   "outputs": [
    {
     "name": "stdout",
     "output_type": "stream",
     "text": [
      "Downloading data from https://s3.amazonaws.com/keras-datasets/boston_housing.npz\n",
      "57344/57026 [==============================] - 2s 38us/step\n"
     ]
    }
   ],
   "source": [
    "from keras.datasets import boston_housing\n",
    "(train_data, train_targets), (test_data, test_targets) = boston_housing.load_data()"
   ]
  },
  {
   "cell_type": "code",
   "execution_count": 32,
   "metadata": {},
   "outputs": [
    {
     "name": "stdout",
     "output_type": "stream",
     "text": [
      "(404, 13)\n",
      "(404,)\n",
      "15.2\n",
      "(102, 13)\n",
      "(102,)\n",
      "7.2\n"
     ]
    }
   ],
   "source": [
    "print(train_data.shape)\n",
    "print(train_targets.shape)\n",
    "print(train_targets[0])\n",
    "print(test_data.shape)\n",
    "print(test_targets.shape)\n",
    "print(test_targets[0])"
   ]
  },
  {
   "cell_type": "code",
   "execution_count": 60,
   "metadata": {},
   "outputs": [
    {
     "name": "stdout",
     "output_type": "stream",
     "text": [
      "processing fold # 0\n",
      "processing fold # 1\n",
      "processing fold # 2\n",
      "processing fold # 3\n",
      "1\n"
     ]
    },
    {
     "data": {
      "image/png": "[encoded data removed]",
      "text/plain": [
       "<Figure size 720x720 with 1 Axes>"
      ]
     },
     "metadata": {
      "needs_background": "light"
     },
     "output_type": "display_data"
    }
   ],
   "source": [
    "# 以下是正式的代码\n",
    "from keras.datasets import boston_housing\n",
    "from keras import models\n",
    "from keras import layers\n",
    "import matplotlib.pyplot as plt\n",
    "import numpy as np\n",
    "\n",
    "\n",
    "# 将构建模型封装为一个函数\n",
    "def build_model():\n",
    "    model = models.Sequential()\n",
    "    model.add(layers.Dense(64, activation = 'relu', input_shape = (train_data.shape[1],)))\n",
    "    model.add(layers.Dense(64, activation = 'relu'))\n",
    "    model.add(layers.Dense(1))\n",
    "    model.compile(optimizer = 'rmsprop',\n",
    "                  loss      = 'mse',      # 注意损失函数为，均方误差\n",
    "                  metrics   = ['mae'])    # 注意指标为平均绝对误差\n",
    "    return model\n",
    "\n",
    "\n",
    "# 进行曲线的平滑\n",
    "def smooth_curve(points, factor = 0.9):\n",
    "    smoothed_points = []\n",
    "    for point in points:\n",
    "        if smoothed_points:  # 如果非空\n",
    "            previous = smoothed_points[-1]\n",
    "            smoothed_points.append(previous * factor + point * (1 - factor))\n",
    "        else:                # 如果是空，用来处理第一个\n",
    "            smoothed_points.append(point)\n",
    "    return smoothed_points   # 注意最终的返回值的缩进\n",
    "\n",
    "\n",
    "# 读取数据\n",
    "(train_data, train_targets), (test_data, test_targets) = boston_housing.load_data()\n",
    "\n",
    "# 数据标准化\n",
    "mean        = train_data.mean(axis = 0) # 这是按列的意思，axis = 1 是行\n",
    "std         = train_data.std(axis = 0)\n",
    "train_data -= mean    # 可以发现训练集合测试集使用的标准化参数，都来自训练集\n",
    "train_data /= std\n",
    "test_data  -= mean\n",
    "test_data  /= std\n",
    "\n",
    "# 参数初始化\n",
    "k                 = 4                     # 这里选择的是4折\n",
    "num_val_samples   = len(train_data) // k  # 向下取整（也就是说会舍弃一些值，除非刚好整除）\n",
    "num_epochs        = 500                   # 训练迭代轮次\n",
    "all_mae_histories = []                    # 存储结果的数组\n",
    "\n",
    "# 开始k折验证\n",
    "for i in range(k):\n",
    "    print('processing fold #', i)\n",
    "    \n",
    "    # 验证集\n",
    "    val_data    = train_data[i * num_val_samples: (i + 1) * num_val_samples]\n",
    "    val_targets = train_targets[i * num_val_samples: (i + 1) * num_val_samples]\n",
    "\n",
    "    # 训练集\n",
    "    partial_train_data = np.concatenate(          # 需要进行数组拼接，注意是按列拼接\n",
    "        [train_data[:i * num_val_samples],\n",
    "         train_data[(i + 1) * num_val_samples:]],\n",
    "        axis = 0)\n",
    "    partial_train_targets = np.concatenate(\n",
    "        [train_targets[:i * num_val_samples],\n",
    "         train_targets[(i + 1) * num_val_samples:]],\n",
    "        axis = 0)\n",
    "\n",
    "    # 建立模型并开始训练\n",
    "    model = build_model()\n",
    "    history = model.fit(partial_train_data,\n",
    "                        partial_train_targets,\n",
    "                        validation_data = (val_data, val_targets),\n",
    "                        epochs = num_epochs,\n",
    "                        batch_size = 1,\n",
    "                        verbose = 0)\n",
    "\n",
    "    # 保存结果\n",
    "    mae_history = history.history['val_mean_absolute_error'] # 注意 mae_history 的大小是100*1\n",
    "    all_mae_histories.append(mae_history)                    # 结果是4*1，但每个元素都是100*1\n",
    "\n",
    "# 处理结果并画图\n",
    "# 应该体会这种双for的操作\n",
    "average_mae_history = [np.mean([x[i] for x in all_mae_histories]) for i in range(num_epochs)]\n",
    "smooth_mae_history  = smooth_curve(average_mae_history[10:]) # 除掉前10个的平滑结果\n",
    "epochs = range(1, len(average_mae_history) + 1)\n",
    "\n",
    "plt.figure(figsize = (10, 10))\n",
    "plt.subplots_adjust(wspace = 0.1, hspace = 0.3)\n",
    "plt.subplot(2, 1, 1)\n",
    "plt.plot(epochs, average_mae_history)\n",
    "plt.xlabel('Epochs', fontsize = 14)\n",
    "plt.ylabel('Validation MAE', fontsize = 14)\n",
    "plt.xticks(fontsize = 14)                        # 设置x刻度大小\n",
    "plt.yticks(fontsize = 14)                        # 设置y刻度大小\n",
    "\n",
    "plt.subplot(2, 1, 2)\n",
    "plt.plot(epochs[10:], smooth_mae_history)\n",
    "plt.xlabel('Epochs', fontsize = 14)\n",
    "plt.ylabel('Validation MAE', fontsize = 14)\n",
    "plt.xticks(fontsize = 14)                        # 设置x刻度大小\n",
    "plt.yticks(fontsize = 14)                        # 设置y刻度大小\n",
    "\n",
    "plt.show()"
   ]
  },
  {
   "cell_type": "code",
   "execution_count": 67,
   "metadata": {},
   "outputs": [
    {
     "data": {
      "image/png": "[encoded data removed]",
      "text/plain": [
       "<Figure size 720x720 with 2 Axes>"
      ]
     },
     "metadata": {
      "needs_background": "light"
     },
     "output_type": "display_data"
    }
   ],
   "source": [
    "# 处理结果并画图\n",
    "# 应该体会这种双for的操作\n",
    "average_mae_history = [np.mean([x[i] for x in all_mae_histories]) for i in range(num_epochs)]\n",
    "smooth_mae_history  = smooth_curve(average_mae_history[10:]) # 除掉前10个的平滑结果\n",
    "epochs = range(1, len(average_mae_history) + 1)\n",
    "\n",
    "plt.figure(figsize = (10, 10))\n",
    "plt.subplots_adjust(wspace = 0.1, hspace = 0.3)\n",
    "plt.subplot(2, 1, 1)\n",
    "plt.plot(epochs, average_mae_history)\n",
    "plt.xlabel('Epochs', fontsize = 14)\n",
    "plt.ylabel('Validation MAE', fontsize = 14)\n",
    "plt.xticks(fontsize = 14)                        # 设置x刻度大小\n",
    "plt.yticks(fontsize = 14)                        # 设置y刻度大小\n",
    "\n",
    "plt.subplot(2, 1, 2)\n",
    "plt.plot(epochs[10:], smooth_mae_history)\n",
    "plt.xlabel('Epochs', fontsize = 14)\n",
    "plt.ylabel('Validation MAE', fontsize = 14)\n",
    "plt.xticks(fontsize = 14)                        # 设置x刻度大小\n",
    "plt.yticks(fontsize = 14)                        # 设置y刻度大小\n",
    "\n",
    "plt.show()"
   ]
  },
  {
   "cell_type": "code",
   "execution_count": 64,
   "metadata": {},
   "outputs": [
    {
     "data": {
      "text/plain": [
       "1"
      ]
     },
     "execution_count": 64,
     "metadata": {},
     "output_type": "execute_result"
    }
   ],
   "source": []
  },
  {
   "cell_type": "code",
   "execution_count": null,
   "metadata": {},
   "outputs": [],
   "source": []
  },
  {
   "cell_type": "code",
   "execution_count": null,
   "metadata": {},
   "outputs": [],
   "source": []
  },
  {
   "cell_type": "code",
   "execution_count": null,
   "metadata": {},
   "outputs": [],
   "source": []
  },
  {
   "cell_type": "code",
   "execution_count": null,
   "metadata": {},
   "outputs": [],
   "source": []
  },
  {
   "cell_type": "code",
   "execution_count": null,
   "metadata": {},
   "outputs": [],
   "source": []
  },
  {
   "cell_type": "code",
   "execution_count": null,
   "metadata": {},
   "outputs": [],
   "source": []
  },
  {
   "cell_type": "code",
   "execution_count": null,
   "metadata": {},
   "outputs": [],
   "source": []
  },
  {
   "cell_type": "code",
   "execution_count": null,
   "metadata": {},
   "outputs": [],
   "source": []
  },
  {
   "cell_type": "code",
   "execution_count": null,
   "metadata": {},
   "outputs": [],
   "source": []
  },
  {
   "cell_type": "code",
   "execution_count": null,
   "metadata": {},
   "outputs": [],
   "source": []
  }
 ],
 "metadata": {
  "kernelspec": {
   "display_name": "Python 3",
   "language": "python",
   "name": "python3"
  },
  "language_info": {
   "codemirror_mode": {
    "name": "ipython",
    "version": 3
   },
   "file_extension": ".py",
   "mimetype": "text/x-python",
   "name": "python",
   "nbconvert_exporter": "python",
   "pygments_lexer": "ipython3",
   "version": "3.7.1"
  }
 },
 "nbformat": 4,
 "nbformat_minor": 2
}
