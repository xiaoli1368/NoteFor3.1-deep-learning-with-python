{
 "cells": [
  {
   "cell_type": "markdown",
   "metadata": {},
   "source": [
    "# 说明\n",
    "\n",
    "这是在运行代码中一些使用单行运行的代码的合集"
   ]
  },
  {
   "cell_type": "markdown",
   "metadata": {},
   "source": [
    "## 2.1"
   ]
  },
  {
   "cell_type": "code",
   "execution_count": 2,
   "metadata": {},
   "outputs": [
    {
     "name": "stderr",
     "output_type": "stream",
     "text": [
      "Using TensorFlow backend.\n"
     ]
    },
    {
     "name": "stdout",
     "output_type": "stream",
     "text": [
      "Help on module keras.datasets.mnist in keras.datasets:\n",
      "\n",
      "NAME\n",
      "    keras.datasets.mnist - MNIST handwritten digits dataset.\n",
      "\n",
      "FUNCTIONS\n",
      "    load_data(path='mnist.npz')\n",
      "        Loads the MNIST dataset.\n",
      "        \n",
      "        # Arguments\n",
      "            path: path where to cache the dataset locally\n",
      "                (relative to ~/.keras/datasets).\n",
      "        \n",
      "        # Returns\n",
      "            Tuple of Numpy arrays: `(x_train, y_train), (x_test, y_test)`.\n",
      "\n",
      "DATA\n",
      "    absolute_import = _Feature((2, 5, 0, 'alpha', 1), (3, 0, 0, 'alpha', 0...\n",
      "    division = _Feature((2, 2, 0, 'alpha', 2), (3, 0, 0, 'alpha', 0), 8192...\n",
      "    print_function = _Feature((2, 6, 0, 'alpha', 2), (3, 0, 0, 'alpha', 0)...\n",
      "\n",
      "FILE\n",
      "    d:\\anaconda3\\lib\\site-packages\\keras\\datasets\\mnist.py\n",
      "\n",
      "\n",
      "None\n"
     ]
    }
   ],
   "source": [
    "from keras.datasets import mnist\n",
    "print(help(mnist))"
   ]
  },
  {
   "cell_type": "code",
   "execution_count": 3,
   "metadata": {},
   "outputs": [
    {
     "name": "stdout",
     "output_type": "stream",
     "text": [
      "(60000, 28, 28)\n",
      "(60000,)\n",
      "(10000, 28, 28)\n",
      "(10000,)\n"
     ]
    }
   ],
   "source": [
    "(train_images, train_labels), (test_images, test_labels) = mnist.load_data()\n",
    "print(train_images.shape)\n",
    "print(train_labels.shape)\n",
    "print(test_images.shape)\n",
    "print(test_labels.shape)"
   ]
  },
  {
   "cell_type": "code",
   "execution_count": 32,
   "metadata": {},
   "outputs": [
    {
     "data": {
      "image/png": "[encoded data removed]",
      "text/plain": [
       "<Figure size 720x720 with 4 Axes>"
      ]
     },
     "metadata": {
      "needs_background": "light"
     },
     "output_type": "display_data"
    }
   ],
   "source": [
    "import matplotlib.pyplot as plt\n",
    "import numpy as np\n",
    "\n",
    "# 载入数据集，并且输出维度大小\n",
    "(train_images, train_labels), (test_images, test_labels) = mnist.load_data()\n",
    "\n",
    "# 随机提取四副图片\n",
    "index = np.random.randint(0, 60000, 4)\n",
    "\n",
    "# 绘制四副图片\n",
    "plt.figure(figsize=(10, 10))                         # 设置图片画布大小\n",
    "plt.subplots_adjust(wspace = 0.1, hspace = 0.3)      # 设置子图间隔大小\n",
    "for i in range(4):\n",
    "    plt.subplot(2,2,i+1)\n",
    "    title = 'label:'+str(train_labels[index[i]])     # 中间的+号表示字符串拼接，真是神奇啊\n",
    "    plt.title(title, fontsize = 15)                  # 设置图片标题以及字体大小\n",
    "    plt.xticks(fontsize = 15)                        # 设置x刻度大小\n",
    "    plt.yticks(fontsize = 15)                        # 设置y刻度大小\n",
    "    plt.imshow(train_images[index[i],:,:]) \n",
    "plt.show()"
   ]
  },
  {
   "cell_type": "code",
   "execution_count": 45,
   "metadata": {},
   "outputs": [
    {
     "name": "stdout",
     "output_type": "stream",
     "text": [
      "Epoch 1/5\n",
      "60000/60000 [==============================] - 60s 1ms/step - loss: 0.2579 - acc: 0.9258\n",
      "Epoch 2/5\n",
      "60000/60000 [==============================] - 61s 1ms/step - loss: 0.1038 - acc: 0.9693\n",
      "Epoch 3/5\n",
      "60000/60000 [==============================] - 76s 1ms/step - loss: 0.0695 - acc: 0.9783\n",
      "Epoch 4/5\n",
      "60000/60000 [==============================] - 66s 1ms/step - loss: 0.0501 - acc: 0.9855\n",
      "Epoch 5/5\n",
      "60000/60000 [==============================] - 65s 1ms/step - loss: 0.0379 - acc: 0.9887\n",
      "10000/10000 [==============================] - 19s 2ms/step\n",
      "test_acc: 0.9774\n"
     ]
    }
   ],
   "source": [
    "# 2-1-Mnist.py\n",
    "from keras.datasets import mnist       \n",
    "from keras.utils import to_categorical \n",
    "from keras import models\t\t\t  \n",
    "from keras import layers             \n",
    "\n",
    "(train_images, train_labels), (test_images, test_labels) = mnist.load_data()\n",
    "\n",
    "network = models.Sequential()\n",
    "network.add(layers.Dense(512, activation='relu', input_shape=(28 * 28,)))\n",
    "network.add(layers.Dense(10, activation='softmax'))\n",
    "\n",
    "network.compile(optimizer='rmsprop',\n",
    " \t\t\t\tloss='categorical_crossentropy',\n",
    " \t\t\t\tmetrics=['accuracy'])\n",
    "\n",
    "train_images = train_images.reshape((60000, 28 * 28))\n",
    "train_images = train_images.astype('float32') / 255\n",
    "test_images  = test_images.reshape((10000, 28 * 28))\n",
    "test_images  = test_images.astype('float32') / 255\n",
    "\n",
    "train_labels = to_categorical(train_labels)\n",
    "test_labels  = to_categorical(test_labels)\n",
    "\n",
    "network.fit(train_images, train_labels, epochs=5, batch_size=128)\n",
    "\n",
    "test_loss, test_acc = network.evaluate(test_images, test_labels)\n",
    "print('test_acc:', test_acc)"
   ]
  },
  {
   "cell_type": "code",
   "execution_count": 42,
   "metadata": {},
   "outputs": [
    {
     "name": "stdout",
     "output_type": "stream",
     "text": [
      "Help on function to_categorical in module keras.utils.np_utils:\n",
      "\n",
      "to_categorical(y, num_classes=None, dtype='float32')\n",
      "    Converts a class vector (integers) to binary class matrix.\n",
      "    \n",
      "    E.g. for use with categorical_crossentropy.\n",
      "    \n",
      "    # Arguments\n",
      "        y: class vector to be converted into a matrix\n",
      "            (integers from 0 to num_classes).\n",
      "        num_classes: total number of classes.\n",
      "        dtype: The data type expected by the input, as a string\n",
      "            (`float32`, `float64`, `int32`...)\n",
      "    \n",
      "    # Returns\n",
      "        A binary matrix representation of the input. The classes axis\n",
      "        is placed last.\n",
      "\n",
      "None\n"
     ]
    }
   ],
   "source": [
    "print(help(to_categorical))"
   ]
  },
  {
   "cell_type": "code",
   "execution_count": 45,
   "metadata": {},
   "outputs": [
    {
     "data": {
      "text/plain": [
       "array([5, 0, 4, ..., 5, 6, 8], dtype=uint8)"
      ]
     },
     "execution_count": 45,
     "metadata": {},
     "output_type": "execute_result"
    }
   ],
   "source": [
    "train_labels"
   ]
  },
  {
   "cell_type": "code",
   "execution_count": 46,
   "metadata": {},
   "outputs": [
    {
     "data": {
      "text/plain": [
       "array([[0., 0., 0., ..., 0., 0., 0.],\n",
       "       [1., 0., 0., ..., 0., 0., 0.],\n",
       "       [0., 0., 0., ..., 0., 0., 0.],\n",
       "       ...,\n",
       "       [0., 0., 0., ..., 0., 0., 0.],\n",
       "       [0., 0., 0., ..., 0., 0., 0.],\n",
       "       [0., 0., 0., ..., 0., 1., 0.]], dtype=float32)"
      ]
     },
     "execution_count": 46,
     "metadata": {},
     "output_type": "execute_result"
    }
   ],
   "source": [
    "train_labels = to_categorical(train_labels)\n",
    "train_labels"
   ]
  },
  {
   "cell_type": "code",
   "execution_count": 47,
   "metadata": {},
   "outputs": [
    {
     "data": {
      "text/plain": [
       "(60000, 10)"
      ]
     },
     "execution_count": 47,
     "metadata": {},
     "output_type": "execute_result"
    }
   ],
   "source": [
    "train_labels.shape"
   ]
  },
  {
   "cell_type": "code",
   "execution_count": null,
   "metadata": {},
   "outputs": [],
   "source": [
    "# 载入必须的库\n",
    "from keras.datasets import mnist       # 这是数据集\n",
    "from keras.utils import to_categorical # 这是用于分类的工具\n",
    "from keras import models               # 模型\n",
    "from keras import layers               # 层\n",
    "import matplotlib.pyplot as plt        # 绘图工具\n",
    "\n",
    "# 提取原始数据，以下是固定的形式，由mnist数据集决定\n",
    "(train_images, train_labels), (test_images, test_labels) = mnist.load_data()\n",
    "\n",
    "# 数据预处理\n",
    "train_images = train_images.reshape((60000, 28 * 28)) # 改为二维数组\n",
    "train_images = train_images.astype('float32') / 255   # 归一化\n",
    "test_images  = test_images.reshape((10000, 28 * 28))  # 改为二维数组\n",
    "test_images  = test_images.astype('float32') / 255    # 归一化\n",
    "\n",
    "# 将类向量（整数）转换为二进制类矩阵\n",
    "train_labels = to_categorical(train_labels)  # 分类编码\n",
    "test_labels  = to_categorical(test_labels)   # 分类编码\n",
    "\n",
    "# 留出验证集（这里是新增加的内容）\n",
    "x_val \t\t\t= train_images[:10000] # 验证集：前10000个\n",
    "partial_x_train = train_images[10000:] # 训练集：10000至60000个\n",
    "y_val \t\t\t= train_labels[:10000] # 验证集：前10000个\n",
    "partial_y_train = train_labels[10000:] # 训练集：10000至60000个\n",
    "\n",
    "# 建立网络模型\n",
    "network = models.Sequential()  \t\t   # 顺序模型\n",
    "# 第一层：全连接层，512路relu激活函数\n",
    "network.add(layers.Dense(512, activation = 'relu', input_shape = (28 * 28,)))   \n",
    "# 第二层：全连接层，10路softmax激活函数\n",
    "network.add(layers.Dense(10, activation = 'softmax'))\t\t\t\t\t\t\t\n",
    "\n",
    "# 配置训练模型\n",
    "network.compile(optimizer = 'rmsprop',                  # 优化器，rmsprop\n",
    " \t\t\t\tloss      = 'categorical_crossentropy', # 代价函数, 交叉熵\n",
    " \t\t\t\tmetrics   =['accuracy'])                # 评估指标，精度\n",
    "\n",
    "# 进行网络训练\n",
    "history = network.fit(partial_x_train, partial_y_train, epochs=5, batch_size=128, \t\t\t\t\t\t  validation_data=(x_val, y_val))   # 5轮次，每一批128个\n",
    "\n",
    "# 查看测试集结果\n",
    "test_loss, test_acc = network.evaluate(test_images, test_labels)\n",
    "print('test_acc:', test_acc)\n",
    "\n",
    "# 作图\n",
    "history_dict    = history.history\n",
    "loss_values     = history_dict['loss']\n",
    "val_loss_values = history_dict['val_loss \n",
    "epochs = range(1, len(loss_values) + 1) # 初始化迭代轮次向量\n",
    "plt.figure(1)\n",
    "plt.plot(epochs, loss_values, 'bo', label='Training loss') \n",
    "plt.plot(epochs, val_loss_values, 'b', label='Validation loss') \n",
    "plt.title('Training and validation loss')\n",
    "plt.xlabel('Epochs')\n",
    "plt.ylabel('Loss')\n",
    "plt.legend()\n",
    "plt.show()\n",
    "\n",
    "acc = history_dict['acc'] \n",
    "val_acc = history_dict['val_acc']\n",
    "plt.figure(2)\n",
    "plt.plot(epochs, acc, 'bo', label='Training acc')\n",
    "plt.plot(epochs, val_acc, 'b', label='Validation acc')\n",
    "plt.title('Training and validation accuracy')\n",
    "plt.xlabel('Epochs')\n",
    "plt.ylabel('Accuracy')\n",
    "plt.legend()\n",
    "plt.show()"
   ]
  },
  {
   "cell_type": "code",
   "execution_count": 55,
   "metadata": {},
   "outputs": [
    {
     "data": {
      "text/plain": [
       "20"
      ]
     },
     "execution_count": 55,
     "metadata": {},
     "output_type": "execute_result"
    }
   ],
   "source": [
    "import numpy as np\n",
    "np.array([1, 2, 3]).dot(np.array([2, 3, 4]))"
   ]
  },
  {
   "cell_type": "code",
   "execution_count": 56,
   "metadata": {},
   "outputs": [
    {
     "data": {
      "text/plain": [
       "784"
      ]
     },
     "execution_count": 56,
     "metadata": {},
     "output_type": "execute_result"
    }
   ],
   "source": [
    "28*28"
   ]
  },
  {
   "cell_type": "code",
   "execution_count": 57,
   "metadata": {},
   "outputs": [
    {
     "name": "stdout",
     "output_type": "stream",
     "text": [
      "sdafdsafd\n"
     ]
    }
   ],
   "source": [
    "print('sdaf'+'dsafd')"
   ]
  },
  {
   "cell_type": "code",
   "execution_count": 61,
   "metadata": {},
   "outputs": [
    {
     "name": "stdout",
     "output_type": "stream",
     "text": [
      "asdfasdf\n"
     ]
    }
   ],
   "source": [
    "print(''.join(['asdf', 'asdf']))"
   ]
  },
  {
   "cell_type": "code",
   "execution_count": null,
   "metadata": {},
   "outputs": [],
   "source": []
  }
 ],
 "metadata": {
  "kernelspec": {
   "display_name": "Python 3",
   "language": "python",
   "name": "python3"
  },
  "language_info": {
   "codemirror_mode": {
    "name": "ipython",
    "version": 3
   },
   "file_extension": ".py",
   "mimetype": "text/x-python",
   "name": "python",
   "nbconvert_exporter": "python",
   "pygments_lexer": "ipython3",
   "version": "3.7.1"
  }
 },
 "nbformat": 4,
 "nbformat_minor": 2
}
